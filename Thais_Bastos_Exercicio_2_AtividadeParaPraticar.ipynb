{
 "cells": [
  {
   "cell_type": "markdown",
   "metadata": {},
   "source": [
    "Atividade para praticar - aula 2"
   ]
  },
  {
   "cell_type": "code",
   "execution_count": 7,
   "metadata": {},
   "outputs": [
    {
     "name": "stdout",
     "output_type": "stream",
     "text": [
      "Seu IMC é: 1446.80\n"
     ]
    }
   ],
   "source": [
    "#1# Calculo IMC#\n",
    "\n",
    "def calcular_imc(peso, altura):\n",
    "\n",
    "    imc = peso / (altura ** 2)\n",
    "\n",
    "    return imc\n",
    "\n",
    "peso = float(input(\"Solicito o seu peso em kg: \"))\n",
    "altura = float(input(\"Solicito a sua altura em metros: \"))\n",
    "\n",
    "imc = calcular_imc(peso, altura)\n",
    "print(f\"Seu IMC é:{imc: .2f}\")"
   ]
  },
  {
   "cell_type": "code",
   "execution_count": 10,
   "metadata": {},
   "outputs": [
    {
     "name": "stdout",
     "output_type": "stream",
     "text": [
      "A lista dos numeros inteiros inseridos são: [0, 1, 2, 3, 4]\n"
     ]
    }
   ],
   "source": [
    "#2# Lista vazia \n",
    "numeros_inteiros = []\n",
    "\n",
    "for numero in range(5):\n",
    "    numeros = int(input(f\"Digite um numero inteiro {numero + 1}: \"))\n",
    "    numeros_inteiros.append(numeros)\n",
    "\n",
    "print(f\"A lista dos numeros inteiros inseridos são: {numeros_inteiros}\")    "
   ]
  },
  {
   "cell_type": "code",
   "execution_count": 11,
   "metadata": {},
   "outputs": [
    {
     "name": "stdout",
     "output_type": "stream",
     "text": [
      "A lista de nomes é ['lucia', 'maria', 'helena', 'julia', 'tereza']\n"
     ]
    }
   ],
   "source": [
    "#3# Lista de nomes\n",
    "\n",
    "nomes = input(\"Digite uma lista de nomes separados por vírgula: \")\n",
    "\n",
    "lista_nomes = [nome.strip() for nome in nomes.split(',')]\n",
    "\n",
    "print(f\"A lista de nomes é {lista_nomes}\")"
   ]
  }
 ],
 "metadata": {
  "kernelspec": {
   "display_name": "projetopythoncode",
   "language": "python",
   "name": "python3"
  },
  "language_info": {
   "codemirror_mode": {
    "name": "ipython",
    "version": 3
   },
   "file_extension": ".py",
   "mimetype": "text/x-python",
   "name": "python",
   "nbconvert_exporter": "python",
   "pygments_lexer": "ipython3",
   "version": "3.12.3"
  }
 },
 "nbformat": 4,
 "nbformat_minor": 2
}
