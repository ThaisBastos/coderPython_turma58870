{
 "cells": [
  {
   "cell_type": "markdown",
   "metadata": {},
   "source": [
    "MOMENTO MÃO NA MASSA - atividade 4"
   ]
  },
  {
   "cell_type": "code",
   "execution_count": 3,
   "metadata": {},
   "outputs": [
    {
     "name": "stdout",
     "output_type": "stream",
     "text": [
      "False\n"
     ]
    }
   ],
   "source": [
    "#1\n",
    "eh_multiplo_dez = lambda x: x % 10 == 0\n",
    "\n",
    "print(eh_multiplo_dez(20)) #True\n",
    "\n",
    "#print(eh_multiplo_dez(25)) #False"
   ]
  },
  {
   "cell_type": "code",
   "execution_count": 7,
   "metadata": {},
   "outputs": [
    {
     "name": "stdout",
     "output_type": "stream",
     "text": [
      "120\n"
     ]
    }
   ],
   "source": [
    "#2\n",
    "def fatorial(n):\n",
    "    if n < 0:\n",
    "        return\n",
    "    elif n==0 or n==1:\n",
    "        return 1\n",
    "    else: \n",
    "        resultado = 1\n",
    "        for i in range(2, n+ 1):\n",
    "            resultado *=i\n",
    "        return resultado\n",
    "        \n",
    "print(fatorial(5))        \n",
    "#print(fatorial(0))\n",
    "#print(fatorial(-4))"
   ]
  },
  {
   "cell_type": "code",
   "execution_count": 10,
   "metadata": {},
   "outputs": [
    {
     "name": "stdout",
     "output_type": "stream",
     "text": [
      "['João', 'Maria', 'Ana', 'Ana']\n"
     ]
    }
   ],
   "source": [
    "#3\n",
    "def primeiro_nome(nome_completo):\n",
    "    return nome_completo.split()[0]\n",
    "\n",
    "nomes = [\"João Carlos\",\"Maria Eduarda\", \"Ana Rute\", \"Ana Clara\"]\n",
    "\n",
    "primeiros_nomes = list(map(primeiro_nome,nomes))\n",
    "\n",
    "print(primeiros_nomes)\n"
   ]
  },
  {
   "cell_type": "code",
   "execution_count": 12,
   "metadata": {},
   "outputs": [
    {
     "name": "stdout",
     "output_type": "stream",
     "text": [
      "Wednesday\n"
     ]
    }
   ],
   "source": [
    "import datetime\n",
    "\n",
    "def dia_da_semana(data_str):\n",
    "    data = datetime.datetime.strptime(data_str, \"%d/%m/%Y\")\n",
    "\n",
    "    dia_semana = data.strftime(\"%A\")\n",
    "\n",
    "    return dia_semana\n",
    "\n",
    "\n",
    "data = \"15/05/2024\"\n",
    "\n",
    "print(dia_da_semana(data))"
   ]
  }
 ],
 "metadata": {
  "kernelspec": {
   "display_name": "projetopythoncode",
   "language": "python",
   "name": "python3"
  },
  "language_info": {
   "codemirror_mode": {
    "name": "ipython",
    "version": 3
   },
   "file_extension": ".py",
   "mimetype": "text/x-python",
   "name": "python",
   "nbconvert_exporter": "python",
   "pygments_lexer": "ipython3",
   "version": "3.12.3"
  }
 },
 "nbformat": 4,
 "nbformat_minor": 2
}
