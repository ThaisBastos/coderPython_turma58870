{
 "cells": [
  {
   "cell_type": "markdown",
   "metadata": {},
   "source": [
    "Momento mão na massa * Atividade 2"
   ]
  },
  {
   "cell_type": "code",
   "execution_count": 1,
   "metadata": {},
   "outputs": [
    {
     "name": "stdout",
     "output_type": "stream",
     "text": [
      "O numero digitado 3 é ímpar\n"
     ]
    }
   ],
   "source": [
    "#1# Validação par ou ímpar\n",
    "\n",
    "numero_inteiro = int(input(\"Digite um numero inteiro: \"))\n",
    "\n",
    "if numero_inteiro / 2 == 0:\n",
    "    print(f\"O número digitado {numero_inteiro} é par\") \n",
    "else:\n",
    "    print(f\"O número digitado {numero_inteiro} é ímpar\")\n",
    "\n"
   ]
  },
  {
   "cell_type": "code",
   "execution_count": 2,
   "metadata": {},
   "outputs": [
    {
     "name": "stdout",
     "output_type": "stream",
     "text": [
      "'O' tem 1 caracteres. \n",
      "'boi' tem 3 caracteres. \n",
      "'é' tem 1 caracteres. \n",
      "'amigo' tem 5 caracteres. \n",
      "'da' tem 2 caracteres. \n",
      "'vaca' tem 4 caracteres. \n"
     ]
    }
   ],
   "source": [
    "#2# Solicitação de frase e contagem de caracteres de cada palavra\n",
    "\n",
    "frase = input(\"Digite uma frase: \")\n",
    "\n",
    "palavras = frase.split()\n",
    "\n",
    "for palavra in palavras:\n",
    "    print(f\"'{palavra}' tem {len(palavra)} caracteres. \")"
   ]
  },
  {
   "cell_type": "code",
   "execution_count": null,
   "metadata": {},
   "outputs": [],
   "source": [
    "#3# Validação de senha correta\n",
    "\n",
    "senha_certa = \"1234\"\n",
    "\n",
    "senha_inserida = \"\"\n",
    "\n",
    "while senha_inserida != senha_certa:\n",
    "    senha_inserida = input(\"Digite a senha numérica de 4 dígitos: \")\n",
    "\n",
    "    if senha_inserida != senha_certa:\n",
    "        print(\"Senha incorreta. Tente novamente.\")\n",
    "\n",
    "print(\"Senha correta! Acesso concedido.\")        "
   ]
  },
  {
   "cell_type": "code",
   "execution_count": 13,
   "metadata": {},
   "outputs": [
    {
     "name": "stdout",
     "output_type": "stream",
     "text": [
      "O fatorial de 5 é 120\n",
      "120\n"
     ]
    }
   ],
   "source": [
    "#4# Calculo fatorial \n",
    "\n",
    "def fatorial(n):\n",
    "    if n==0 or n==1:\n",
    "        return 1\n",
    "    else: \n",
    "        resultado = 1\n",
    "        for numero in range(2, n+ 1):\n",
    "            resultado *= numero\n",
    "        return resultado  \n",
    "        \n",
    "n = int(input(\"Informe um numero para ser calculado o fatorial: \"))   \n",
    "\n",
    "resultado = fatorial(n)\n",
    "\n",
    "print(f\"O fatorial de {n} é {resultado}\")\n"
   ]
  },
  {
   "cell_type": "code",
   "execution_count": 3,
   "metadata": {},
   "outputs": [
    {
     "name": "stdout",
     "output_type": "stream",
     "text": [
      "Mês: Janeiro, Quantidade: 232\n",
      "Mês: Fevereiro, Quantidade: 321\n",
      "Mês: Junho, Quantidade: 589\n",
      "Mês: Julho, Quantidade: 547\n"
     ]
    }
   ],
   "source": [
    "#5# Dicionario meses\n",
    "\n",
    "dados = {\"Janeiro\": 232,\n",
    "         \"Fevereiro\": 321,\n",
    "         \"Junho\":589,\n",
    "         \"Julho\": 547\n",
    "         }\n",
    "\n",
    "for mes, qtde in dados.items():\n",
    "    print(f\"Mês: {mes}, Quantidade: {qtde}\")"
   ]
  }
 ],
 "metadata": {
  "kernelspec": {
   "display_name": "projetopythoncode",
   "language": "python",
   "name": "python3"
  },
  "language_info": {
   "codemirror_mode": {
    "name": "ipython",
    "version": 3
   },
   "file_extension": ".py",
   "mimetype": "text/x-python",
   "name": "python",
   "nbconvert_exporter": "python",
   "pygments_lexer": "ipython3",
   "version": "3.12.3"
  }
 },
 "nbformat": 4,
 "nbformat_minor": 2
}
