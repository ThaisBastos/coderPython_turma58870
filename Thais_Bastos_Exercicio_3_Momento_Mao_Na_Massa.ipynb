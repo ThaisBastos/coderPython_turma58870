{
 "cells": [
  {
   "cell_type": "markdown",
   "metadata": {},
   "source": [
    "Momento mão na massa * Atividade 3"
   ]
  },
  {
   "cell_type": "code",
   "execution_count": 1,
   "metadata": {},
   "outputs": [
    {
     "name": "stdout",
     "output_type": "stream",
     "text": [
      "Seu novo saldo é 900.6\n"
     ]
    }
   ],
   "source": [
    "saldo = 950.60\n",
    "\n",
    "saque = float(input(\"Quanto dinheiro você deseja sacar?\"))\n",
    "\n",
    "novo_saldo = saldo - saque\n",
    "print(f\"Seu novo saldo é {novo_saldo}\")"
   ]
  },
  {
   "cell_type": "code",
   "execution_count": null,
   "metadata": {},
   "outputs": [],
   "source": [
    "frutas =[\"banana\",\"maçã\",\"abacaxi\"]\n",
    "\n",
    "fruta = input(\"Digite o nome de uma fruta: \")\n",
    "frutas.append(fruta)\n",
    "\n",
    "frutas = list(set(frutas))\n",
    "\n",
    "print(f\"Nova lista de frutas {frutas}\")"
   ]
  },
  {
   "cell_type": "code",
   "execution_count": null,
   "metadata": {},
   "outputs": [],
   "source": [
    "frase = input(\"Digite uma frase: \")\n",
    "\n",
    "substituida = frase.replace('a','*').replace('e','*').replace('i','*').replace('o','*').replace('u','*')\n",
    "\n",
    "print(\"Frase com vogais substituidas: \", substituida)"
   ]
  }
 ],
 "metadata": {
  "kernelspec": {
   "display_name": "projetopythoncode",
   "language": "python",
   "name": "python3"
  },
  "language_info": {
   "codemirror_mode": {
    "name": "ipython",
    "version": 3
   },
   "file_extension": ".py",
   "mimetype": "text/x-python",
   "name": "python",
   "nbconvert_exporter": "python",
   "pygments_lexer": "ipython3",
   "version": "3.12.3"
  }
 },
 "nbformat": 4,
 "nbformat_minor": 2
}
