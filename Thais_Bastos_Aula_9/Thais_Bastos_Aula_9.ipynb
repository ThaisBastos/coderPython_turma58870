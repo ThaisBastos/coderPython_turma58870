{
 "cells": [
  {
   "cell_type": "markdown",
   "metadata": {},
   "source": [
    "Exercicio Aula 9 - Banco de dados"
   ]
  },
  {
   "cell_type": "code",
   "execution_count": 2,
   "metadata": {},
   "outputs": [
    {
     "name": "stdout",
     "output_type": "stream",
     "text": [
      "Tabelas do banco de dados:\n",
      "       name\n",
      "0  fastfood\n",
      "\n",
      "DataFrame carregado do banco de dados:\n",
      "    restaurant                                       item  calories  cal_fat  \\\n",
      "0    Mcdonalds           Artisan Grilled Chicken Sandwich       380       60   \n",
      "1    Mcdonalds             Single Bacon Smokehouse Burger       840      410   \n",
      "2    Mcdonalds             Double Bacon Smokehouse Burger      1130      600   \n",
      "3    Mcdonalds  Grilled Bacon Smokehouse Chicken Sandwich       750      280   \n",
      "4    Mcdonalds   Crispy Bacon Smokehouse Chicken Sandwich       920      410   \n",
      "..         ...                                        ...       ...      ...   \n",
      "510  Taco Bell             Spicy Triple Double Crunchwrap       780      340   \n",
      "511  Taco Bell                Express Taco Salad w/ Chips       580      260   \n",
      "512  Taco Bell                     Fiesta Taco Salad-Beef       780      380   \n",
      "513  Taco Bell                  Fiesta Taco Salad-Chicken       720      320   \n",
      "514  Taco Bell                    Fiesta Taco Salad-Steak       720      320   \n",
      "\n",
      "     total_fat sat_fat            trans_fat  cholesterol  sodium  total_carb  \\\n",
      "0            7       2                    0           95    1110          44   \n",
      "1           45      17  2023-05-01 00:00:00          130    1580          62   \n",
      "2           67      27                    3          220    1920          63   \n",
      "3           31      10                  0.5          155    1940          62   \n",
      "4           45      12                  0.5          120    1980          81   \n",
      "..         ...     ...                  ...          ...     ...         ...   \n",
      "510         38      10                  0.5           50    1850          87   \n",
      "511         29       9                    1           60    1270          59   \n",
      "512         42      10                    1           60    1340          74   \n",
      "513         35       7                    0           70    1260          70   \n",
      "514         36       8                    1           55    1340          70   \n",
      "\n",
      "     fiber  sugar  protein  vit_a  vit_c  calcium  salad  \n",
      "0      3.0     11     37.0    4.0   20.0     20.0  Other  \n",
      "1      2.0     18     46.0    6.0   20.0     20.0  Other  \n",
      "2      3.0     18     70.0   10.0   20.0     50.0  Other  \n",
      "3      2.0     18     55.0    6.0   25.0     20.0  Other  \n",
      "4      4.0     18     46.0    6.0   20.0     20.0  Other  \n",
      "..     ...    ...      ...    ...    ...      ...    ...  \n",
      "510    9.0      8     23.0   20.0   10.0     25.0  Other  \n",
      "511    8.0      7     23.0    NaN    NaN      NaN  Other  \n",
      "512   11.0      7     26.0    NaN    NaN      NaN  Other  \n",
      "513    8.0      8     32.0    NaN    NaN      NaN  Other  \n",
      "514    8.0      8     28.0    NaN    NaN      NaN  Other  \n",
      "\n",
      "[515 rows x 17 columns]\n"
     ]
    }
   ],
   "source": [
    "import sqlite3\n",
    "import pandas as pd\n",
    "\n",
    "def tabelas_bd(db_path):\n",
    "    conn = sqlite3.connect(db_path)\n",
    "    query = \"SELECT name FROM sqlite_master WHERE type='table';\"\n",
    "    df = pd.read_sql_query(query, conn)\n",
    "    conn.close()\n",
    "    return df\n",
    "\n",
    "def salva_bd(df, nome_tabela, db_path):\n",
    "    conn = sqlite3.connect(db_path)\n",
    "    df.to_sql(nome_tabela, conn, if_exists='replace', index=False)\n",
    "    conn.close()\n",
    "\n",
    "def carrega_bd(nome_tabela, db_path):\n",
    "    conn = sqlite3.connect(db_path)\n",
    "    query = f\"SELECT * FROM {nome_tabela};\"\n",
    "    df = pd.read_sql_query(query, conn)\n",
    "    conn.close()\n",
    "    return df\n",
    "\n",
    "if __name__ == \"__main__\":\n",
    "\n",
    "    arquivo_excel = r'C:\\Users\\Thais\\projetopythoncode\\Thais_Bastos_Aula_9\\fastfood.xlsx'\n",
    "\n",
    "    df_fastfood = pd.read_excel(arquivo_excel)\n",
    "\n",
    "    db_path = \"fastfood.db\"\n",
    "\n",
    "    tabela_nome = \"fastfood\"\n",
    "\n",
    "    salva_bd(df_fastfood, tabela_nome, db_path)\n",
    "\n",
    "    df_bd = carrega_bd(tabela_nome, db_path)\n",
    "\n",
    "    # Exibe as tabelas do banco de dados\n",
    "    print(\"Tabelas do banco de dados:\")\n",
    "    print(tabelas_bd(db_path))\n",
    "\n",
    "    # Exibe o DataFrame carregado do banco de dados\n",
    "    print(\"\\nDataFrame carregado do banco de dados:\")\n",
    "    print(df_bd)"
   ]
  }
 ],
 "metadata": {
  "kernelspec": {
   "display_name": "projetopythoncode",
   "language": "python",
   "name": "python3"
  },
  "language_info": {
   "codemirror_mode": {
    "name": "ipython",
    "version": 3
   },
   "file_extension": ".py",
   "mimetype": "text/x-python",
   "name": "python",
   "nbconvert_exporter": "python",
   "pygments_lexer": "ipython3",
   "version": "3.12.3"
  }
 },
 "nbformat": 4,
 "nbformat_minor": 2
}
