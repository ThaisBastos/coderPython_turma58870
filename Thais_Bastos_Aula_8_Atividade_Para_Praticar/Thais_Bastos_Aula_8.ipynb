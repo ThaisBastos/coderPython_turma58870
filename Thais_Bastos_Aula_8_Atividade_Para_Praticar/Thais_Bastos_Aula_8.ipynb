{
 "cells": [
  {
   "cell_type": "code",
   "execution_count": 10,
   "metadata": {},
   "outputs": [],
   "source": [
    "import pandas as pd\n",
    "\n",
    "# Caminho do arquivo CSV\n",
    "caminho_arquivo = r'C:\\Users\\Thais\\projetopythoncode\\Thais_Bastos_Aula_8_Atividade_Para_Praticar\\Cancer_Data.csv'\n",
    "\n",
    "# Carregar o arquivo CSV em um DataFrame\n",
    "df = pd.read_csv(caminho_arquivo)"
   ]
  },
  {
   "cell_type": "code",
   "execution_count": 11,
   "metadata": {},
   "outputs": [
    {
     "name": "stdout",
     "output_type": "stream",
     "text": [
      "Número de casos benignos (diagnosis = 'B'): 357\n"
     ]
    }
   ],
   "source": [
    "# Contar o número de linhas onde a coluna diagnosis é igual a 'B'\n",
    "linhas_diagnostico_B = df[df['diagnosis'] == 'B'].shape[0]\n",
    "print(\"Número de casos benignos (diagnosis = 'B'):\", linhas_diagnostico_B)"
   ]
  },
  {
   "cell_type": "code",
   "execution_count": 12,
   "metadata": {},
   "outputs": [
    {
     "name": "stdout",
     "output_type": "stream",
     "text": [
      "\n",
      "IDs dos casos de câncer maligno com raio maior que 25:\n",
      "82       8611555\n",
      "180       873592\n",
      "212      8810703\n",
      "352       899987\n",
      "461    911296202\n",
      "Name: id, dtype: int64\n"
     ]
    }
   ],
   "source": [
    "# Substituir os valores na coluna diagnosis\n",
    "mapeamento_diagnosis = {'B': 'bening cancer', 'M': 'malignant cancer'}\n",
    "df['diagnosis'] = df['diagnosis'].map(mapeamento_diagnosis)\n",
    "\n",
    "# Filtrar os IDs dos casos de câncer maligno com raio maior que 25\n",
    "casos_malignos_raio_maior_25 = df[(df['diagnosis'] == 'malignant cancer') & (df['radius_mean'] > 25)]['id']\n",
    "print(\"\\nIDs dos casos de câncer maligno com raio maior que 25:\")\n",
    "print(casos_malignos_raio_maior_25)"
   ]
  }
 ],
 "metadata": {
  "kernelspec": {
   "display_name": "projetopythoncode",
   "language": "python",
   "name": "python3"
  },
  "language_info": {
   "codemirror_mode": {
    "name": "ipython",
    "version": 3
   },
   "file_extension": ".py",
   "mimetype": "text/x-python",
   "name": "python",
   "nbconvert_exporter": "python",
   "pygments_lexer": "ipython3",
   "version": "3.12.3"
  }
 },
 "nbformat": 4,
 "nbformat_minor": 2
}
