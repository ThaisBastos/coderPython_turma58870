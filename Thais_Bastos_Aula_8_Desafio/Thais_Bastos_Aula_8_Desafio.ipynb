{
 "cells": [
  {
   "cell_type": "markdown",
   "metadata": {},
   "source": [
    "Thais Bastos\n",
    "Aula 8\n",
    "\n",
    "Desafio Nitendo"
   ]
  },
  {
   "cell_type": "code",
   "execution_count": 16,
   "metadata": {},
   "outputs": [
    {
     "name": "stdout",
     "output_type": "stream",
     "text": [
      "      Console Name      Type   Company  Released Year  Discontinuation Year  \\\n",
      "0    PlayStation 2      Home      Sony           2000                  2013   \n",
      "1      Nintendo DS  Handheld  Nintendo           2004                  2013   \n",
      "2  Nintendo Switch    Hybrid  Nintendo           2017                     0   \n",
      "3         Game Boy  Handheld  Nintendo           1989                  2003   \n",
      "4   Game Boy Color  Handheld  Nintendo           1998                  2003   \n",
      "\n",
      "   Units sold (million)                                            Remarks  \n",
      "0                155.00           Final sales are greater than 155 million  \n",
      "1                154.02                                                NaN  \n",
      "2                122.55                                                NaN  \n",
      "3                 64.42  The Game Boy (1989) and the Game Boy Color (19...  \n",
      "4                 44.06                                                NaN  \n"
     ]
    }
   ],
   "source": [
    "#Abra o arquivo \"best-selling game consoles.xlsx\" em um dataframe.\n",
    "\n",
    "import pandas as pd\n",
    "\n",
    "# Caminho do arquivo CSV\n",
    "caminho_arquivo = r'C:\\Users\\Thais\\projetopythoncode\\Thais_Bastos_Aula_8_Desafio\\best-selling game consoles.xlsx'\n",
    "\n",
    "# Carregar o arquivo CSV em um DataFrame\n",
    "df = pd.read_excel(caminho_arquivo, sheet_name='consoles')\n",
    "\n",
    "print(df.head())"
   ]
  },
  {
   "cell_type": "code",
   "execution_count": 18,
   "metadata": {},
   "outputs": [
    {
     "name": "stdout",
     "output_type": "stream",
     "text": [
      "0                         PLAYSTATION 2\n",
      "1                           NINTENDO DS\n",
      "2                       NINTENDO SWITCH\n",
      "3                              GAME BOY\n",
      "4                        GAME BOY COLOR\n",
      "5                         PLAYSTATION 4\n",
      "6                           PLAYSTATION\n",
      "7                                   WII\n",
      "8                         PLAYSTATION 3\n",
      "9                              XBOX 360\n",
      "10                     GAME BOY ADVANCE\n",
      "11                 PLAYSTATION PORTABLE\n",
      "12                         NINTENDO 3DS\n",
      "13                   NITENDINHO/FAMICOM\n",
      "14                             XBOX ONE\n",
      "15            SNITENDINHO/SUPER FAMICOM\n",
      "16                         GAME & WATCH\n",
      "17                          NINTENDO 64\n",
      "18       SEGA GENITENDINHOIS/MEGA DRIVE\n",
      "19                        PLAYSTATION 5\n",
      "20                           ATARI 2600\n",
      "21                                 XBOX\n",
      "22                             GAMECUBE\n",
      "23                      XBOX SERIES X/S\n",
      "24                                WII U\n",
      "25                     PLAYSTATION VITA\n",
      "26                   SEGA MASTER SYSTEM\n",
      "27                       SEGA GAME GEAR\n",
      "28              PC ENGINE/TURBOGRAFX-16\n",
      "29                          SEGA SATURN\n",
      "30                            DREAMCAST\n",
      "31    MASTER SYSTEM(BRAZILIAN VARIANTS)\n",
      "32                     DENDY(FAMICLONE)\n",
      "33     SUPER NITENDINHO CLASSIC EDITION\n",
      "34                  FAMICOM DISK SYSTEM\n",
      "35           NITENDINHO CLASSIC EDITION\n",
      "36                           WONDERSWAN\n",
      "37                            SEGA PICO\n",
      "38                        COLOR TV-GAME\n",
      "39                        INTELLIVISION\n",
      "40       MEGA DRIVE(BRAZILIAN VARIANTS)\n",
      "41                               N-GAGE\n",
      "42                              SEGA CD\n",
      "43                         COLECOVISION\n",
      "44                     MAGNAVOX ODYSSEY\n",
      "45                     PC ENGINE CD-ROM\n",
      "46                           ATARI 7800\n",
      "47                           ATARI LYNX\n",
      "48                         PHILIPS CD-I\n",
      "49                              TELSTAR\n",
      "50                           ATARI 5200\n",
      "Name: Console Name, dtype: object\n"
     ]
    }
   ],
   "source": [
    "#Substitua a palavra \"NES\" por \"Nitendinho\" no nome dos consoles e deixe todos os nomes em maiúsculos.\n",
    "\n",
    "df['Console Name'] = df['Console Name'].str.replace('NES', 'Nitendinho').str.upper()\n",
    "\n",
    "print(df['Console Name'])"
   ]
  },
  {
   "cell_type": "code",
   "execution_count": 19,
   "metadata": {},
   "outputs": [
    {
     "name": "stdout",
     "output_type": "stream",
     "text": [
      "                        Console Name       Type    Company Released Year  \\\n",
      "2                    NINTENDO SWITCH     Hybrid   Nintendo    2017-01-01   \n",
      "5                      PLAYSTATION 4       Home       Sony    2013-01-01   \n",
      "12                      NINTENDO 3DS   Handheld   Nintendo    2011-01-01   \n",
      "14                          XBOX ONE       Home  Microsoft    2013-01-01   \n",
      "19                     PLAYSTATION 5       Home       Sony    2020-01-01   \n",
      "23                   XBOX SERIES X/S       Home  Microsoft    2020-01-01   \n",
      "24                             WII U       Home   Nintendo    2012-01-01   \n",
      "25                  PLAYSTATION VITA   Handheld       Sony    2011-01-01   \n",
      "33  SUPER NITENDINHO CLASSIC EDITION  Dedicated   Nintendo    2017-01-01   \n",
      "35        NITENDINHO CLASSIC EDITION  Dedicated   Nintendo    2016-01-01   \n",
      "\n",
      "    Discontinuation Year  Units sold (million)  \\\n",
      "2                      0                122.55   \n",
      "5                      0                117.20   \n",
      "12                  2020                 75.94   \n",
      "14                  2020                 58.50   \n",
      "19                     0                 30.00   \n",
      "23                     0                 18.50   \n",
      "24                  2017                 13.56   \n",
      "25                  2019                 15.00   \n",
      "33                  2018                  5.28   \n",
      "35                  2018                  3.56   \n",
      "\n",
      "                              Remarks  \n",
      "2                                 NaN  \n",
      "5                                 NaN  \n",
      "12                                NaN  \n",
      "14  Estimated between 51-58.5 million  \n",
      "19                                NaN  \n",
      "23  Approximately around 18.5 million  \n",
      "24                                NaN  \n",
      "25    Estimated between 10-15 million  \n",
      "33                                NaN  \n",
      "35                                NaN  \n"
     ]
    }
   ],
   "source": [
    "#Filtre o nome dos consoles com data de release depois de 2010.\n",
    "\n",
    "df['Released Year'] = pd.to_datetime(df['Released Year'], format='%Y', errors='coerce')\n",
    "df_post_2010 = df[df['Released Year'].dt.year > 2010]\n",
    "\n",
    "print(df_post_2010)"
   ]
  },
  {
   "cell_type": "code",
   "execution_count": 20,
   "metadata": {},
   "outputs": [
    {
     "name": "stdout",
     "output_type": "stream",
     "text": [
      "<class 'pandas.core.frame.DataFrame'>\n",
      "RangeIndex: 51 entries, 0 to 50\n",
      "Data columns (total 7 columns):\n",
      " #   Column                Non-Null Count  Dtype         \n",
      "---  ------                --------------  -----         \n",
      " 0   Console Name          51 non-null     object        \n",
      " 1   Type                  51 non-null     object        \n",
      " 2   Company               51 non-null     object        \n",
      " 3   Released Year         51 non-null     datetime64[ns]\n",
      " 4   Discontinuation Year  51 non-null     int64         \n",
      " 5   Units sold (million)  51 non-null     float64       \n",
      " 6   Remarks               51 non-null     object        \n",
      "dtypes: datetime64[ns](1), float64(1), int64(1), object(4)\n",
      "memory usage: 2.9+ KB\n",
      "         Console Name  Type   Company                  Released Year  \\\n",
      "count              51    51        51                             51   \n",
      "unique             51     5        15                            NaN   \n",
      "top     PLAYSTATION 2  Home  Nintendo                            NaN   \n",
      "freq                1    31        17                            NaN   \n",
      "mean              NaN   NaN       NaN  1996-01-22 21:10:35.294117632   \n",
      "min               NaN   NaN       NaN            1976-01-01 00:00:00   \n",
      "25%               NaN   NaN       NaN            1987-07-02 12:00:00   \n",
      "50%               NaN   NaN       NaN            1994-01-01 00:00:00   \n",
      "75%               NaN   NaN       NaN            2004-07-02 00:00:00   \n",
      "max               NaN   NaN       NaN            2020-01-01 00:00:00   \n",
      "std               NaN   NaN       NaN                            NaN   \n",
      "\n",
      "        Discontinuation Year  Units sold (million)  Remarks  \n",
      "count              51.000000             51.000000       51  \n",
      "unique                   NaN                   NaN       13  \n",
      "top                      NaN                   NaN  missing  \n",
      "freq                     NaN                   NaN       35  \n",
      "mean             1844.803922             35.549412      NaN  \n",
      "min                 0.000000              1.000000      NaN  \n",
      "25%              1992.000000              3.200000      NaN  \n",
      "50%              1998.000000             13.560000      NaN  \n",
      "75%              2011.500000             60.205000      NaN  \n",
      "max              2020.000000            155.000000      NaN  \n",
      "std               543.657319             42.608844      NaN  \n",
      "None\n"
     ]
    }
   ],
   "source": [
    "#De um describe e info da base, substitua os missing values pela string \"missing\".\n",
    "df.fillna('missing', inplace=True)\n",
    "description = df.describe(include='all')\n",
    "info = df.info()\n",
    "\n",
    "print(description)\n",
    "print(info)"
   ]
  },
  {
   "cell_type": "code",
   "execution_count": 21,
   "metadata": {},
   "outputs": [
    {
     "name": "stdout",
     "output_type": "stream",
     "text": [
      "                        Console Name       Type           Company  \\\n",
      "33  SUPER NITENDINHO CLASSIC EDITION  Dedicated          Nintendo   \n",
      "44                  MAGNAVOX ODYSSEY       Home  Magnavox/Philips   \n",
      "50                        ATARI 5200       Home             Atari   \n",
      "\n",
      "   Released Year Discontinuation Year  Units sold (million)  \\\n",
      "33    2017-01-01           2018-01-01                  5.28   \n",
      "44    1978-01-01           1975-01-01                  2.00   \n",
      "50    1982-01-01           1984-01-01                  1.00   \n",
      "\n",
      "                                   Remarks  Years Active  \n",
      "33                                 missing      0.999316  \n",
      "44                                 missing     -3.000684  \n",
      "50  Final sales are greater than 1 million      1.998631  \n"
     ]
    }
   ],
   "source": [
    "#Filtre os consoles que foram descontinuados a menos de 2 anos da data de release.\n",
    "\n",
    "df['Discontinuation Year'] = pd.to_datetime(df['Discontinuation Year'], format='%Y', errors='coerce')\n",
    "df['Years Active'] = (df['Discontinuation Year'] - df['Released Year']).dt.days / 365.25\n",
    "df_short_lived = df[df['Years Active'] < 2]\n",
    "\n",
    "print(df_short_lived)"
   ]
  }
 ],
 "metadata": {
  "kernelspec": {
   "display_name": "projetopythoncode",
   "language": "python",
   "name": "python3"
  },
  "language_info": {
   "codemirror_mode": {
    "name": "ipython",
    "version": 3
   },
   "file_extension": ".py",
   "mimetype": "text/x-python",
   "name": "python",
   "nbconvert_exporter": "python",
   "pygments_lexer": "ipython3",
   "version": "3.12.3"
  }
 },
 "nbformat": 4,
 "nbformat_minor": 2
}
